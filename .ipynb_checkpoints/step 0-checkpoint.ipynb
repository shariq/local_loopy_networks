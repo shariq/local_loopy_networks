{
 "cells": [
  {
   "cell_type": "markdown",
   "metadata": {},
   "source": [
    "# Step 0\n",
    "Step 0 is to prove that a local network with a lot of loops can even learn.\n",
    "Come up with a toy task and try to get a network to learn that.\n",
    "MNIST is not a toy task - do something even simpler!\n",
    "\n",
    "\n",
    "Still not sure if we are going to do RL or sequence learning. Let's start with sequence learning because we've already formulated that nicely as output and sampling on a low-high transition. Also to prevent network from running for too long maybe we should send it some small negative reward which increases as it takes too long."
   ]
  },
  {
   "cell_type": "code",
   "execution_count": 76,
   "metadata": {
    "collapsed": true
   },
   "outputs": [],
   "source": [
    "%matplotlib inline\n",
    "\n",
    "import matplotlib\n",
    "import matplotlib.pyplot as plt"
   ]
  },
  {
   "cell_type": "code",
   "execution_count": 351,
   "metadata": {
    "collapsed": true
   },
   "outputs": [],
   "source": [
    "import logging\n",
    "logger = logging.getLogger()\n",
    "logger.setLevel(logging.DEBUG)"
   ]
  },
  {
   "cell_type": "code",
   "execution_count": 59,
   "metadata": {
    "collapsed": true
   },
   "outputs": [],
   "source": [
    "import networkx as nx\n",
    "import random\n",
    "from collections import defaultdict\n",
    "import numpy as np\n",
    "import math"
   ]
  },
  {
   "cell_type": "markdown",
   "metadata": {},
   "source": [
    "## Local learning\n",
    "\n",
    "Subgraphs learn from each other, since you can reason by induction about their learning.\n",
    "\n",
    "Hypothesis: higher percent of local update rules are good for learning vs percent of nonlocal update rules.\n",
    "\n",
    "Can scale better.\n",
    "\n",
    "Unfortunately they're inherently slower, since we have to actually wait for the signals to propagate around, maybe even back and forth.\n",
    "\n",
    "There may be some good nonlocal learning rules which are difficult to implement as local learning rules. (e.g, keep these two subgraphs decorrelated)"
   ]
  },
  {
   "cell_type": "code",
   "execution_count": 6,
   "metadata": {
    "collapsed": false
   },
   "outputs": [
    {
     "data": {
      "text/plain": [
       "networkx.classes.digraph.DiGraph"
      ]
     },
     "execution_count": 6,
     "metadata": {},
     "output_type": "execute_result"
    }
   ],
   "source": [
    "networkx.DiGraph"
   ]
  },
  {
   "cell_type": "markdown",
   "metadata": {},
   "source": [
    "# Toy problem\n",
    "\n",
    "We will start by working on sequence learning. \n",
    "\n",
    "What will our toy sequence learning problem be? Maybe a random hidden markov process. Maybe a random circuit (which is a lot smaller than our network) with a high period? Maybe text? For now build framework to be agnostic to the toy problem. All inputs and outputs must be one hot encoded, with an additional bool for ready to sample, which is thresholded at half. We can treat model as a blackbox which has a step function; it will need an error hook also, and a way to send input + read output.\n",
    "\n",
    "Initially I'll test with a markov process: i.e, P(character_n) is a function of only character_n-1. Can later change this to be a function of more characters. Then we'll measure perplexity on a newly generated sequence. Also run a baseline with an RNN/LSTM, and try figuring out number of updates vs perplexity graph."
   ]
  },
  {
   "cell_type": "code",
   "execution_count": 391,
   "metadata": {
    "collapsed": false
   },
   "outputs": [],
   "source": [
    "class MarkovSequence:\n",
    "    def __init__(self, characters='abcde'):\n",
    "        self.characters = characters\n",
    "        self.transition = defaultdict(lambda: {})\n",
    "        for start in characters:\n",
    "            total = 0.0\n",
    "            random_numbers = sorted([random.random() for i in range(len(characters) - 1)] + [0.0, 1.0])\n",
    "            for x, y, c in zip(random_numbers[1:], random_numbers[:-1], characters):\n",
    "                self.transition[start][c] = x - y\n",
    "    def generate(self):\n",
    "        character = random.choice(self.characters)\n",
    "        while True:\n",
    "            yield character\n",
    "            transitions = [self.transition[character][c] for c in self.characters]\n",
    "            character = np.random.choice(list(self.characters), p=transitions)\n",
    "    def sample(self, length):\n",
    "        generator = self.generate()\n",
    "        for i in range(length):\n",
    "            yield next(generator)"
   ]
  },
  {
   "cell_type": "code",
   "execution_count": 393,
   "metadata": {
    "collapsed": false
   },
   "outputs": [
    {
     "name": "stdout",
     "output_type": "stream",
     "text": [
      "defaultdict(<function <lambda> at 0x10452a848>, {'a': {'a': 0.10976053889271331, 'c': 0.11614117897663478, 'b': 0.29171239050289977, 'e': 0.31052568960598215, 'd': 0.17186020202177}, 'c': {'a': 0.559692239955055, 'c': 0.02569365221172837, 'b': 0.09924072450751253, 'e': 0.06320814118467666, 'd': 0.2521652421410274}, 'b': {'a': 0.01061811985246841, 'c': 0.03452018071671781, 'b': 0.46103717886121487, 'e': 0.375136493876458, 'd': 0.11868802669314094}, 'e': {'a': 0.4105326151298776, 'c': 0.09771488958304941, 'b': 0.03929471382524519, 'e': 0.28871367845464013, 'd': 0.16374410300718767}, 'd': {'a': 0.09426194601686977, 'c': 0.563133521991043, 'b': 0.2234520880236298, 'e': 0.09830902570105127, 'd': 0.0208434182674061}})\n",
      "\n",
      "\n",
      "edbbbeeeaeadbeacbbbeaeedcdceaedcaeaeaabedaeabeedcadadbbbeababdcaeeaeabbbbeedceadcabecdebbeadeaeabdbe\n"
     ]
    }
   ],
   "source": [
    "m = MarkovSequence()\n",
    "print(m.transition)\n",
    "print('\\n')\n",
    "print(''.join(m.sample(100)))"
   ]
  },
  {
   "cell_type": "code",
   "execution_count": 277,
   "metadata": {
    "collapsed": true
   },
   "outputs": [],
   "source": [
    "def directed_waxman_graph(n, alpha=0.4, beta=0.1, domain_scale=1.0, dimensionality=3):\n",
    "    r\"\"\"Return a directed Waxman random graph.\n",
    "\n",
    "    The Waxman random graph model places ``n`` nodes uniformly at random in a\n",
    "    hypercube domain. Each pair of nodes at Euclidean distance `d` is joined\n",
    "    by an edge with probability\n",
    "\n",
    "    .. math::\n",
    "            p = \\alpha \\exp(-d / \\beta L).\n",
    "\n",
    "    L is the maximum distance between any pair of nodes.\n",
    "\n",
    "    Parameters\n",
    "    ----------\n",
    "    n : int\n",
    "        Number of nodes\n",
    "    alpha: float\n",
    "        Model parameter; similar to mean\n",
    "    beta: float\n",
    "        Model parameter; similar to variance\n",
    "    domain_scale : float\n",
    "        Domain scale, which scales the hypercube domain\n",
    "    dimensionality : int\n",
    "        Dimensionality of the hypercube domain\n",
    "\n",
    "    Returns\n",
    "    -------\n",
    "    G: DiGraph\n",
    "\n",
    "    References\n",
    "    ----------\n",
    "    .. [1]  B. M. Waxman, Routing of multipoint connections.\n",
    "       IEEE J. Select. Areas Commun. 6(9),(1988) 1617-1622.\n",
    "    \"\"\"\n",
    "    # build graph of n nodes with random positions in a hypercube\n",
    "    G = nx.DiGraph()\n",
    "    G.add_nodes_from(['hidden_{}'.format(i) for i in range(n)])\n",
    "    domain = []\n",
    "    for n in G:\n",
    "        position = tuple([random.random() * domain_scale for i in range(dimensionality)])\n",
    "        G.node[n]['pos'] = position\n",
    "\n",
    "    def euclidean_distance(p1, p2):\n",
    "        return math.sqrt(sum([(c1-c2)**2 for c1, c2 in zip(p1, p2)]))\n",
    "        \n",
    "    l = 0\n",
    "    positions = list(nx.get_node_attributes(G,'pos').values())\n",
    "    while positions:\n",
    "        position1 = positions.pop()\n",
    "        for position2 in positions:\n",
    "            distance = euclidean_distance(position1, position2)\n",
    "            if distance > l:\n",
    "                l = distance\n",
    "\n",
    "    nodes=G.nodes()\n",
    "    # Waxman-1 model\n",
    "    # try all pairs, connect randomly based on euclidean distance\n",
    "    while nodes:\n",
    "        u = nodes.pop()\n",
    "        position1 = G.node[u]['pos']\n",
    "        for v in nodes:\n",
    "            position2 = G.node[v]['pos']\n",
    "            # r = euclidean_distance(position1, position2)\n",
    "            r = math.sqrt(sum([(c1-c2)**2 for c1, c2 in zip(position1, position2)]))\n",
    "            if random.random() < alpha*math.exp(-r/(beta*l)):\n",
    "                if random.random() < 0.5:\n",
    "                    G.add_edge(u,v)\n",
    "                else:\n",
    "                    G.add_edge(v,u)\n",
    "    return G"
   ]
  },
  {
   "cell_type": "code",
   "execution_count": 194,
   "metadata": {
    "collapsed": false,
    "scrolled": true
   },
   "outputs": [
    {
     "data": {
      "text/plain": [
       "6785"
      ]
     },
     "execution_count": 194,
     "metadata": {},
     "output_type": "execute_result"
    }
   ],
   "source": [
    "len(directed_waxman_graph(300, alpha=4).edges())"
   ]
  },
  {
   "cell_type": "code",
   "execution_count": 179,
   "metadata": {
    "collapsed": false
   },
   "outputs": [],
   "source": [
    "Y = []\n",
    "X = range(10, 300, 2)\n",
    "\n",
    "for number_neurons in X:\n",
    "    edges = 0\n",
    "    edges = len(directed_waxman_graph(number_neurons, alpha=0.75).edges())\n",
    "    Y.append(edges)"
   ]
  },
  {
   "cell_type": "code",
   "execution_count": 180,
   "metadata": {
    "collapsed": false
   },
   "outputs": [
    {
     "data": {
      "text/plain": [
       "[<matplotlib.lines.Line2D at 0x112cc3750>]"
      ]
     },
     "execution_count": 180,
     "metadata": {},
     "output_type": "execute_result"
    },
    {
     "data": {
      "image/png": "[encoded data removed]",
      "text/plain": [
       "<matplotlib.figure.Figure at 0x1129b01d0>"
      ]
     },
     "metadata": {},
     "output_type": "display_data"
    }
   ],
   "source": [
    "plt.plot(X, Y)"
   ]
  },
  {
   "cell_type": "code",
   "execution_count": 181,
   "metadata": {
    "collapsed": false
   },
   "outputs": [],
   "source": [
    "Z = np.polyfit(X, Y, 3)"
   ]
  },
  {
   "cell_type": "code",
   "execution_count": 182,
   "metadata": {
    "collapsed": false
   },
   "outputs": [
    {
     "data": {
      "text/plain": [
       "[<matplotlib.lines.Line2D at 0x113026bd0>,\n",
       " <matplotlib.lines.Line2D at 0x113026cd0>]"
      ]
     },
     "execution_count": 182,
     "metadata": {},
     "output_type": "execute_result"
    },
    {
     "data": {
      "image/png": "[encoded data removed]",
      "text/plain": [
       "<matplotlib.figure.Figure at 0x112871850>"
      ]
     },
     "metadata": {},
     "output_type": "display_data"
    }
   ],
   "source": [
    "plt.plot(X, Y, '.', X, np.poly1d(Z)(X), '-')"
   ]
  },
  {
   "cell_type": "code",
   "execution_count": 240,
   "metadata": {
    "collapsed": false,
    "scrolled": true
   },
   "outputs": [
    {
     "data": {
      "image/png": "[encoded data removed]",
      "text/plain": [
       "<matplotlib.figure.Figure at 0x114020510>"
      ]
     },
     "metadata": {},
     "output_type": "display_data"
    },
    {
     "data": {
      "text/plain": [
       "[<matplotlib.lines.Line2D at 0x1142c9190>,\n",
       " <matplotlib.lines.Line2D at 0x1142c9390>,\n",
       " <matplotlib.lines.Line2D at 0x1142c9a50>]"
      ]
     },
     "execution_count": 240,
     "metadata": {},
     "output_type": "execute_result"
    },
    {
     "data": {
      "image/png": "[encoded data removed]",
      "text/plain": [
       "<matplotlib.figure.Figure at 0x113eaa250>"
      ]
     },
     "metadata": {},
     "output_type": "display_data"
    }
   ],
   "source": [
    "Z1 = np.array([  5.30991239e-06,   1.43689642e-02,  -1.52805906e-02,\n",
    "        -3.80737784e+00]) # alpha=0.75\n",
    "Z2 = np.array([  4.90989475e-06,   3.20074277e-02,  -5.27464457e-01,\n",
    "         7.05951081e+00]) # alpha=1.5\n",
    "Z3 = np.array([ -3.32102121e-05,   8.15744003e-02,  -3.38073581e+00,\n",
    "         7.32826103e+01]) # alpha=3\n",
    "\n",
    "plt.plot(X, np.poly1d(Z1)(X), '-', X, np.poly1d(Z2)(X), '-', X, np.poly1d(Z3)(X), '-')\n",
    "plt.show()\n",
    "\n",
    "plt.plot(X, np.poly1d(Z1*2*2)(X), '-', X, np.poly1d(Z2*2)(X), '-', X, np.poly1d(Z3)(X), '-')"
   ]
  },
  {
   "cell_type": "code",
   "execution_count": 524,
   "metadata": {
    "collapsed": true
   },
   "outputs": [],
   "source": [
    "def WaxmanTopology(number_neurons, edges_per_neuron, number_symbols):\n",
    "    # we really should also have a clustering coefficient for modifying beta and/or domain_scale\n",
    "    number_neurons_to_edges_Z = np.array([5.30991239e-06, 1.43689642e-02, -1.52805906e-02, -3.80737784e+00])/0.75\n",
    "    # alpha * Z(number_neurons) = edges_per_neuron * number_neurons\n",
    "    # alpha = edges_per_neuron * number_neurons / Z(number_neurons)\n",
    "    # does not work well for alpha >> 3 and alpha << 0.75\n",
    "    alpha = (edges_per_neuron * number_neurons) / np.poly1d(number_neurons_to_edges_Z)(number_neurons)\n",
    "    G = directed_waxman_graph(number_neurons, dimensionality=3, alpha=alpha)\n",
    "    \n",
    "    # now add some input neurons and output neurons\n",
    "    hidden_nodes = G.nodes()\n",
    "    input_output_hidden_nodes = random.sample(hidden_nodes, number_symbols * 2 + 2)\n",
    "    input_hidden_nodes = input_output_hidden_nodes[:number_symbols + 1]\n",
    "    output_hidden_nodes = input_output_hidden_nodes[number_symbols + 1:]\n",
    "    for i, input_hidden_node in enumerate(input_hidden_nodes):\n",
    "        input_node = 'input_{}'.format(i)\n",
    "        G.add_node(input_node)\n",
    "        G.add_edge(input_node, input_hidden_node)\n",
    "    for i, output_hidden_node in enumerate(output_hidden_nodes):\n",
    "        output_node = 'output_{}'.format(i)\n",
    "        G.add_node(output_node)\n",
    "        G.add_edge(output_hidden_node, output_node)\n",
    "    # treat output_0 as the gate for reading output\n",
    "    # treat input_0 as the beginning of sequence symbol\n",
    "\n",
    "    return G\n",
    "\n",
    "\n",
    "def FeedforwardTopology(number_neurons, edges_per_neuron, number_symbols):\n",
    "    # edges per neuron == layer size\n",
    "    # number layers = ceiling(number neurons / edges per neuron)\n",
    "    G = nx.DiGraph()\n",
    "    number_layers = number_neurons / edges_per_neuron\n",
    "    neurons_per_layer = edges_per_neuron\n",
    "    assert number_neurons % edges_per_neuron == 0\n",
    "    # no neurons left behind!\n",
    "    input_layer, output_layer = [], []\n",
    "    for input_i in range(number_symbols + 1):\n",
    "        node_name = 'input_{}'.format(input_i)\n",
    "        G.add_node(node_name)\n",
    "        input_layer.append(node_name)\n",
    "    for output_i in range(number_symbols + 1):\n",
    "        node_name = 'output_{}'.format(output_i)\n",
    "        G.add_node(node_name)\n",
    "        output_layer.append(node_name)\n",
    "    previous_layer = input_layer\n",
    "    hidden_i = 0\n",
    "    for layer_number in range(number_layers):\n",
    "        current_layer = []\n",
    "        for i in range(neurons_per_layer):\n",
    "            node_name = 'hidden_{}'.format(hidden_i)\n",
    "            hidden_i += 1\n",
    "            G.add_node(node_name)\n",
    "            current_layer.append(node_name)\n",
    "        for previous_node in previous_layer:\n",
    "            for current_node in current_layer:\n",
    "                G.add_edge(previous_node, current_node)\n",
    "        previous_layer = current_layer\n",
    "    for previous_node in previous_layer:\n",
    "        for output_node in output_layer:\n",
    "            G.add_edge(previous_node, output_node)\n",
    "    return G"
   ]
  },
  {
   "cell_type": "code",
   "execution_count": 768,
   "metadata": {
    "collapsed": false
   },
   "outputs": [],
   "source": [
    "class BasicLearningRule:\n",
    "    '''\n",
    "    t\n",
    "    what exactly does train and test look like under L3N?\n",
    "    \n",
    "    training at a high level involves:\n",
    "    - a single train step which involves:\n",
    "        - feeding input in \n",
    "            (we are already pretty sure about how to do this)\n",
    "            (tests for sanity)\n",
    "        - before output is provided:\n",
    "            - weight updates\n",
    "                (this is a big question; it has some properties but let's test this in isolation)\n",
    "                (also this will require lots of smaller tests to test for sanity)\n",
    "            - propagating signals around (could include normalization)\n",
    "                (just do weighted sum, and normalization can happen in many different ways)\n",
    "                (not sure how to propagate error signal)\n",
    "                (also requires small tests for sanity)\n",
    "        - read output and feed error signals in (and penalizing or forcing readout if compute is taking too long)\n",
    "            (already pretty sure how to do this: only unclear about forcing/penalizing readout)\n",
    "            (tests for sanity)\n",
    "    - picking random slices as training samples (batch size 1 o noo)\n",
    "    - learning rate schedule, and other hyperparameters\n",
    "        (come up with some random ones)\n",
    "        (test for sanity)\n",
    "    - keeping track of validation error and train error\n",
    "        (i.e, figure out test: online or offline test?)\n",
    "    - tricks to make training work (e.g, force read after max compute time, instead of penalizing)\n",
    "        (figure out by watching training on simple examples and thinking of things)\n",
    "    - initializing network with reasonable weights and structure/etc\n",
    "        (need to experiment)\n",
    "        (make sure to test)\n",
    "\n",
    "\n",
    "    test at a high level involves:\n",
    "    - some way to condition on prior input (same as training: just feed in a sequence while waiting for output prediction)\n",
    "    - a way to read output, and maybe/maybe not force output after some number of timesteps\n",
    "    - may or may not run weight update rule live (online learning) (difference in test/train may happen if model uses error signals as memory of past input)\n",
    "    \n",
    "\n",
    "    OK, now that you've thought through all this, you need to code a shitty version of all of it.\n",
    "'''\n",
    "    OUTPUT_GATE_ERROR_SCHEDULE = [0] * 5 + [-0.05] * 3 + [-0.5] * 2 #[0] * 200 + [-0.005] * 100 + [-0.05] * 100 + [-0.5] * 100 #  \n",
    "    # use this to limit number of compute steps, or send no gate error, or send gate error in more linear fashion\n",
    "    \n",
    "    TRAIN_SEQUENCE_LENGTH = 10 # 1000\n",
    "    TEST_SEQUENCE_LENGTH = 100\n",
    "    \n",
    "    LEARNING_RATE = 1\n",
    "    \n",
    "    def __init__(self, local_loopy_sequence_network):\n",
    "        self.graph = graph = local_loopy_sequence_network.graph\n",
    "        self.characters = local_loopy_sequence_network.characters\n",
    "        for node in graph.nodes():\n",
    "            graph.node[node]['signal'] = 0.0\n",
    "            graph.node[node]['error'] = 0.0\n",
    "            for out_node in graph[node]:\n",
    "                graph[node][out_node]['weight'] = (0.5 - random.random()) / 10.0\n",
    "    \n",
    "    def _send_error(self, expected_output):\n",
    "        # TODO: use a better loss function\n",
    "        graph = self.graph\n",
    "        correct_output_node = 'output_{}'.format(expected_output)\n",
    "        for node in graph.nodes():\n",
    "            if 'output_' in node and node != 'output_0':\n",
    "                expected_signal = 0.0\n",
    "                if node == correct_output_node:\n",
    "                    expected_signal = 1.0\n",
    "                actual_signal = graph.node[node]['signal']\n",
    "                error = actual_signal - expected_signal\n",
    "                graph.node[node]['error'] = error\n",
    "\n",
    "    def _update_weights(self):\n",
    "        graph = self.graph\n",
    "        for node in graph.nodes():\n",
    "            error = graph.node[node]['error']\n",
    "            for out_node in graph[node]:\n",
    "                graph[node][out_node]['weight'] += self.LEARNING_RATE * error\n",
    "    \n",
    "    def _propagate_signals(self):\n",
    "        # add debug logging here to see what signals are\n",
    "        graph = self.graph\n",
    "        \n",
    "        for node in graph.nodes():\n",
    "            graph.node[node]['next_signal'] = 0.0\n",
    "\n",
    "        for node in graph.nodes():\n",
    "            node_signal = graph.node[node]['signal']\n",
    "            for out_node in graph[node]:\n",
    "                edge_weight = graph[node][out_node]['weight']\n",
    "                graph.node[out_node]['next_signal'] += node_signal * edge_weight\n",
    "\n",
    "        for node in graph.nodes():\n",
    "            graph.node[node]['signal'] = graph.node[node]['next_signal']\n",
    "    \n",
    "        for node in graph.nodes():\n",
    "            graph.node[node]['next_error'] = 0.0\n",
    "        \n",
    "        for node in graph.nodes():\n",
    "            for out_node in graph[node]:\n",
    "                graph.node[node]['next_error'] += graph.node[out_node]['error'] * graph[node][out_node]['weight']\n",
    "                continue\n",
    "                # no idea what this bs underneath means...\n",
    "                # error = actual signal - expected signal\n",
    "                # so if we want to minimize error, given some weight, signal from incoming node, and expected signal,...\n",
    "                # actual signal - (weight * signal) - expected signal\n",
    "                # 0 = AS - (w * S) - ES\n",
    "                # (ES - AS)/S = -w\n",
    "                # (AS - ES)/S = w\n",
    "                # (error)/S = w\n",
    "                # error to propagate = weight change\n",
    "                # weight change = current weight - w\n",
    "                # error to propagate = current weight - (error/S)\n",
    "                # and randomize it a bit...\n",
    "                # error to propagate = current_weight * rand(0,0.1) - error/S\n",
    "                out_node_error = graph.node[out_node]['error']\n",
    "                edge_weight = graph[node][out_node]['weight']\n",
    "                node_signal = graph.node[node]['signal']\n",
    "                if abs(node_signal) <= random.random() / 100.0 + 0.01:\n",
    "                    continue\n",
    "                error_contribution = abs(random.random() / 10.0) * edge_weight - out_node_error/node_signal\n",
    "                if error_contribution > random.random():\n",
    "                    continue\n",
    "                graph.node[node]['next_error'] += abs(random.random() / 10.0) * edge_weight - out_node_error/node_signal\n",
    "        \n",
    "        for node in graph.nodes():\n",
    "            graph.node[node]['error'] = graph.node[node]['next_error']\n",
    "\n",
    "    \n",
    "    def _normalize_signals(self):\n",
    "        graph = self.graph\n",
    "        for node in graph.nodes():\n",
    "            if abs(graph.node[node]['signal']) < 0.0:\n",
    "                graph.node[node]['signal'] = 0.0\n",
    "            elif abs(graph.node[node]['signal'] > 10.0):\n",
    "                graph.node[node]['signal'] = 10.0\n",
    "    \n",
    "    \n",
    "    def _normalize_weights(self):\n",
    "        pass\n",
    "\n",
    "    \n",
    "    def visualize_graph(self):\n",
    "        graph = self.graph\n",
    "        for node in sorted(graph):\n",
    "            print(node, graph.node[node])\n",
    "        print('\\n')\n",
    "        \n",
    "        for node in sorted(graph):\n",
    "            for out_node in sorted(graph[node]):\n",
    "                print(node, out_node, graph[node][out_node])\n",
    "    \n",
    "    \n",
    "    def _train_step(self, data):\n",
    "        # first feed input_0; or beginning of sequence\n",
    "        # network tries to predict first character this way\n",
    "        graph = self.graph\n",
    "        if globals().get('debug_stuff', False):\n",
    "            for node in graph.nodes():\n",
    "                for out_node in graph[node]:\n",
    "                    print(node, out_node, graph[node][out_node]['weight'])\n",
    "        signals = [0] + [self.characters.index(c) + 1 for c in data]\n",
    "        graph = self.graph\n",
    "        for signal, previous_signal in zip(signals + [None], [None] + signals):\n",
    "            # if signal == 0, or beginning of sequence, don't send any error\n",
    "            if previous_signal != 0 and previous_signal is not None:\n",
    "                self._send_error(previous_signal)\n",
    "\n",
    "            if signal is not None:\n",
    "                # feed input in\n",
    "                input_node = 'input_{}'.format(signal)\n",
    "                graph.node[input_node]['signal'] = 1.0\n",
    "            else:\n",
    "                # signal is None means we've reached the end of the sequence, but we still want error from the last character to move around\n",
    "                # because we don't know what that looks like, for now we will just hack it and return here\n",
    "                return\n",
    "            \n",
    "            output_gate_was_low = graph.node['output_0']['signal'] < 0.5\n",
    "            # check for output_0 going from <0.5 to >0.5\n",
    "            \n",
    "            output_gate_error_schedule = self.OUTPUT_GATE_ERROR_SCHEDULE\n",
    "            compute_step = 0\n",
    "            \n",
    "            while True:\n",
    "                self._update_weights()\n",
    "                self._propagate_signals()\n",
    "                self._normalize_signals()\n",
    "                self._normalize_weights()\n",
    "                self.visualize_graph()\n",
    "                raw_input()\n",
    "                output_gate_was_low = output_gate_was_low or graph.node['output_0']['signal'] < 0.5\n",
    "                output_gate_error = output_gate_error_schedule[compute_step]\n",
    "                graph.node['output_0']['error'] = output_gate_error\n",
    "                compute_step += 1\n",
    "                if compute_step >= len(output_gate_error_schedule):\n",
    "                    break\n",
    "                if output_gate_was_low and graph.node['output_0']['signal'] > 0.5:\n",
    "                    break\n",
    "\n",
    "\n",
    "    def _validation_error(self, data):\n",
    "        signals = [0] + [self.characters.index(c) + 1 for c in data]\n",
    "        graph = self.graph\n",
    "        \n",
    "        predictions = []\n",
    "        \n",
    "        for signal in signals:\n",
    "            input_node = 'input_{}'.format(signal)\n",
    "            graph.node[input_node]['signal'] = 1.0\n",
    "            \n",
    "            output_gate_was_low = graph.node['output_0']['signal'] < 0.5\n",
    "            # check for output_0 going from <0.5 to >0.5\n",
    "            \n",
    "            compute_step = 0\n",
    "            \n",
    "            while (compute_step < len(self.OUTPUT_GATE_ERROR_SCHEDULE)) and (\n",
    "                    not (output_gate_was_low and graph.node['output_0']['signal'] > 0.5)):\n",
    "                self._propagate_signals()\n",
    "                self._normalize_signals()\n",
    "                output_gate_was_low = output_gate_was_low or graph.node['output_0']['signal'] < 0.5\n",
    "                compute_step += 1\n",
    "            \n",
    "            prediction = [0.0] * len(self.characters)\n",
    "            for i in range(len(self.characters)):\n",
    "                output_node = 'output_{}'.format(i+1)\n",
    "                prediction[i] = graph.node[output_node]['signal']\n",
    "            \n",
    "            for i in range(len(prediction)):\n",
    "                prediction[i] /= sum(prediction)\n",
    "\n",
    "            predictions.append(prediction)\n",
    "\n",
    "        total_error = 0.0\n",
    "        \n",
    "        for signal, prediction in zip(signals[1:], predictions[:-1]):\n",
    "            # could use a different loss function here, but that's too complicated to interpret\n",
    "            \n",
    "            for i, p in enumerate(prediction):\n",
    "                if i == signal - 1:\n",
    "                    error = abs(p - 1.0)\n",
    "                else:\n",
    "                    error = abs(p - 0.0)\n",
    "                total_error += error\n",
    "        \n",
    "        average_error = total_error / float(len(sum(predictions[:-1], [])))\n",
    "        \n",
    "        return average_error\n",
    "\n",
    "    def train(self, data_generator, epochs=1000):\n",
    "        for epoch in range(epochs):\n",
    "            logger.info('=== EPOCH {} of {} ==='.format(epoch, epochs))\n",
    "            \n",
    "            train_data = []\n",
    "            while len(train_data) < self.TRAIN_SEQUENCE_LENGTH:\n",
    "                train_data.append(next(data_generator))\n",
    "            self._train_step(train_data)\n",
    "            \n",
    "            test_data = []\n",
    "            while len(test_data) < self.TEST_SEQUENCE_LENGTH:\n",
    "                test_data.append(next(data_generator))\n",
    "            error = self._validation_error(test_data)\n",
    "            \n",
    "            logger.info('TEST ERROR = {}'.format(error))\n",
    "            \n",
    "    def sample(self, stochastic=False):\n",
    "        graph = self.graph\n",
    "        \n",
    "        if stochastic:\n",
    "            raise Exception(\"stochastic sampling not implemented\")\n",
    "        \n",
    "        next_signal = 0\n",
    "\n",
    "        while True:\n",
    "            input_node = 'input_{}'.format(next_signal)\n",
    "            graph.node[input_node]['signal'] = 1.0\n",
    "            output_gate_was_low = graph.node['output_0']['signal'] < 0.5\n",
    "            \n",
    "            compute_step = 0\n",
    "            while compute_step < len(self.OUTPUT_GATE_ERROR_SCHEDULE) and (\n",
    "                    not (output_gate_was_low and graph.node['output_0']['signal'] > 0.5)):\n",
    "                self._propagate_signals()\n",
    "                self._normalize_signals()\n",
    "                output_gate_was_low = output_gate_was_low or graph.node['output_0']['signal'] < 0.5\n",
    "                compute_step += 1\n",
    "            \n",
    "            outputs = [graph.node['output_{}'.format(i+1)]['signal'] for i in range(len(self.characters))]\n",
    "            \n",
    "            max_output_index = np.argmax(outputs)\n",
    "            \n",
    "            next_character = self.characters[max_output_index]\n",
    "            \n",
    "            next_signal = max_output_index + 1\n",
    "            \n",
    "            yield next_character\n",
    "        \n",
    "class RandomLearningRule(BasicLearningRule):\n",
    "    def _propagate_signals(self):\n",
    "        for node in self.graph.nodes():\n",
    "            self.graph.node[node]['signal'] = random.random()\n",
    "\n",
    "class LocalLoopySequenceNetwork:\n",
    "    NETWORK_TOPOLOGIES = {\n",
    "        'scalefree': NotImplemented,  # by default in networkx is a MultiDiGraph\n",
    "        'waxman': WaxmanTopology,\n",
    "        'feedforward': FeedforwardTopology\n",
    "    }\n",
    "    LEARNING_RULES = {\n",
    "        'basic': BasicLearningRule,\n",
    "        'random': RandomLearningRule\n",
    "    }\n",
    "    def __init__(self, network_topology, number_neurons, edges_per_neuron, characters, learning_rule):\n",
    "        assert network_topology in self.NETWORK_TOPOLOGIES\n",
    "        assert learning_rule in self.LEARNING_RULES\n",
    "        number_symbols = len(characters)\n",
    "        G = self.NETWORK_TOPOLOGIES[network_topology](number_neurons, edges_per_neuron, number_symbols)\n",
    "        self.graph = G\n",
    "        self.characters = characters\n",
    "        \n",
    "        self.learning = self.LEARNING_RULES[learning_rule](self)"
   ]
  },
  {
   "cell_type": "code",
   "execution_count": 590,
   "metadata": {
    "collapsed": false
   },
   "outputs": [],
   "source": [
    "m = MarkovSequence()"
   ]
  },
  {
   "cell_type": "code",
   "execution_count": 504,
   "metadata": {
    "collapsed": false
   },
   "outputs": [],
   "source": [
    "l = LocalLoopySequenceNetwork('waxman', 300, 20, ['a', 'b', 'c', 'd', 'e'], 'basic')"
   ]
  },
  {
   "cell_type": "code",
   "execution_count": 492,
   "metadata": {
    "collapsed": false,
    "scrolled": true
   },
   "outputs": [
    {
     "data": {
      "text/plain": [
       "'cbbdcbacbcbacadcaaae'"
      ]
     },
     "execution_count": 492,
     "metadata": {},
     "output_type": "execute_result"
    }
   ],
   "source": [
    "gen = m.generate()\n",
    "''.join(next(gen) for i in range(20))"
   ]
  },
  {
   "cell_type": "code",
   "execution_count": 507,
   "metadata": {
    "collapsed": false
   },
   "outputs": [
    {
     "data": {
      "text/plain": [
       "'eeeeeeeeeeeeeeeeeeee'"
      ]
     },
     "execution_count": 507,
     "metadata": {},
     "output_type": "execute_result"
    }
   ],
   "source": [
    "gen = l.learning.sample()\n",
    "''.join(next(gen) for i in range(20))\n",
    "# this should not look like this; it should be more random\n",
    "# TODO: dig deeper into node signals propagated and find out why this doesn't look random for a randomly initialized network\n"
   ]
  },
  {
   "cell_type": "code",
   "execution_count": 744,
   "metadata": {
    "collapsed": true
   },
   "outputs": [],
   "source": [
    "l = LocalLoopySequenceNetwork('waxman', 300, 20, ['a', 'b', 'c', 'd', 'e'], 'random')"
   ]
  },
  {
   "cell_type": "code",
   "execution_count": 752,
   "metadata": {
    "collapsed": false
   },
   "outputs": [],
   "source": [
    "gen = l.learning.sample()\n",
    "thing = ''.join(next(gen) for i in range(1000))"
   ]
  },
  {
   "cell_type": "code",
   "execution_count": 753,
   "metadata": {
    "collapsed": false,
    "scrolled": true
   },
   "outputs": [
    {
     "data": {
      "text/plain": [
       "'aaaaaaaaaaaaaaaaaaaaaaaaaaaaaaaaaaaaaaaaaaaaaaaaaaaaaaaaaaaaaaaaaaaaaaaaaaaaaaaaaaaaaaaaaaaaaaaaaaaaaaaaaaaaaaaaaaaaaaaaaaaaaaaaaaaaaaaaaaaaaaaaaaaaaaaaaaaaaaaaaaaaaaaaaaaaaaaaaaaaaaaaaaaaaaaaaaaaaaaaaaaaaaaaaaaaaaaaaaaaaaaaaaaaaaaaaaaaaaaaaaaaaaaaaaaaaaaaaaaaaaaaaaaaaaaaaaaaaaaaaaaaaaaaaaaaaaaaaaaaaaaaaaaaaaaaaaaaaaaaaaaaaaaaaaaaaaaaaaaaaaaaaaaaaaaaaaaaaaaaaaaaaaaaaaaaaaaaaaaaaaaaaaaaaaaaaaaaaaaaaaaaaaaaaaaaaaaaaaaaaaaaaaaaaaaaaaaaaaaaaaaaaaaaaaaaaaaaaaaaaaaaaaaaaaaaaaaaaaaaaaaaaaaaaaaaaaaaaaaaaaaaaaaaaaaaaaaaaaaaaaaaaaaaaaaaaaaaaaaaaaaaaaaaaaaaaaaaaaaaaaaaaaaaaaaaaaaaaaaaaaaaaaaaaaaaaaaaaaaaaaaaaaaaaaaaaaaaaaaaaaaaaaaaaaaaaaaaaaaaaaaaaaaaaaaaaaaaaaaaaaaaaaaaaaaaaaaaaaaaaaaaaaaaaaaaaaaaaaaaaaaaaaaaaaaaaaaaaaaaaaaaaaaaaaaaaaaaaaaaaaaaaaaaaaaaaaaaaaaaaaaaaaaaaaaaaaaaaaaaaaaaaaaaaaaaaaaaaaaaaaaaaaaaaaaaaaaaaaaaaaaaaaaaaaaaaaaaaaaaaaaaaaaaaaaaaaaaaaaaaaaaaaaaaaaaaaaaaaaaaaaaaaaaaaaaaaaaaaaaaaaaaaaaaaaaaaaaaaaaaaaaaaaaaaaaaaaaaaaaaaaaaaaaaaaaaaaaaaaaaaaaaaaaaaaaaaaaaaaaaaaaaaaaaaaaaaaaaaaa'"
      ]
     },
     "execution_count": 753,
     "metadata": {},
     "output_type": "execute_result"
    }
   ],
   "source": [
    "thing"
   ]
  },
  {
   "cell_type": "code",
   "execution_count": 769,
   "metadata": {
    "collapsed": false
   },
   "outputs": [],
   "source": [
    "l = feedforward = LocalLoopySequenceNetwork('feedforward', 1, 1, ['a', 'b'], 'basic')"
   ]
  },
  {
   "cell_type": "code",
   "execution_count": 770,
   "metadata": {
    "collapsed": false
   },
   "outputs": [],
   "source": [
    "def a_generator():\n",
    "    while True:\n",
    "        yield 'a'"
   ]
  },
  {
   "cell_type": "code",
   "execution_count": 772,
   "metadata": {
    "collapsed": false
   },
   "outputs": [
    {
     "name": "stdout",
     "output_type": "stream",
     "text": [
      "9\n"
     ]
    }
   ],
   "source": [
    "print(5+4)"
   ]
  },
  {
   "cell_type": "code",
   "execution_count": 771,
   "metadata": {
    "collapsed": false,
    "scrolled": true
   },
   "outputs": [
    {
     "name": "stderr",
     "output_type": "stream",
     "text": [
      "INFO:root:=== EPOCH 0 of 1 ===\n"
     ]
    },
    {
     "name": "stdout",
     "output_type": "stream",
     "text": [
      "('hidden_0', {'signal': 0.03490508483027347, 'next_signal': 0.03490508483027347, 'next_error': 0.0, 'error': 0.0})\n",
      "('input_0', {'signal': 0.0, 'next_signal': 0.0, 'next_error': 0.0, 'error': 0.0})\n",
      "('input_1', {'signal': 0.0, 'next_signal': 0.0, 'next_error': 0.0, 'error': 0.0})\n",
      "('input_2', {'signal': 0.0, 'next_signal': 0.0, 'next_error': 0.0, 'error': 0.0})\n",
      "('output_0', {'signal': 0.0, 'next_signal': 0.0, 'next_error': 0.0, 'error': 0.0})\n",
      "('output_1', {'signal': 0.0, 'next_signal': 0.0, 'next_error': 0.0, 'error': 0.0})\n",
      "('output_2', {'signal': 0.0, 'next_signal': 0.0, 'next_error': 0.0, 'error': 0.0})\n",
      "\n",
      "\n",
      "('hidden_0', 'output_0', {'weight': -0.00423029389533579})\n",
      "('hidden_0', 'output_1', {'weight': -0.04018503984012093})\n",
      "('hidden_0', 'output_2', {'weight': -0.036986905423801966})\n",
      "('input_0', 'hidden_0', {'weight': 0.03490508483027347})\n",
      "('input_1', 'hidden_0', {'weight': -0.03289048803761979})\n",
      "('input_2', 'hidden_0', {'weight': -0.030875645605864466})\n",
      "\n",
      "('hidden_0', {'signal': 0.0, 'next_signal': 0.0, 'next_error': 0.0, 'error': 0.0})\n",
      "('input_0', {'signal': 0.0, 'next_signal': 0.0, 'next_error': 0.0, 'error': 0.0})\n",
      "('input_1', {'signal': 0.0, 'next_signal': 0.0, 'next_error': 0.0, 'error': 0.0})\n",
      "('input_2', {'signal': 0.0, 'next_signal': 0.0, 'next_error': 0.0, 'error': 0.0})\n",
      "('output_0', {'signal': -0.00014765876727368377, 'next_signal': -0.00014765876727368377, 'next_error': 0.0, 'error': 0.0})\n",
      "('output_1', {'signal': -0.0014026622245273401, 'next_signal': -0.0014026622245273401, 'next_error': 0.0, 'error': 0.0})\n",
      "('output_2', {'signal': -0.0012910310714271097, 'next_signal': -0.0012910310714271097, 'next_error': 0.0, 'error': 0.0})\n",
      "\n",
      "\n",
      "('hidden_0', 'output_0', {'weight': -0.00423029389533579})\n",
      "('hidden_0', 'output_1', {'weight': -0.04018503984012093})\n",
      "('hidden_0', 'output_2', {'weight': -0.036986905423801966})\n",
      "('input_0', 'hidden_0', {'weight': 0.03490508483027347})\n",
      "('input_1', 'hidden_0', {'weight': -0.03289048803761979})\n",
      "('input_2', 'hidden_0', {'weight': -0.030875645605864466})\n",
      "\n",
      "('hidden_0', {'signal': 0.0, 'next_signal': 0.0, 'next_error': 0.0, 'error': 0.0})\n",
      "('input_0', {'signal': 0.0, 'next_signal': 0.0, 'next_error': 0.0, 'error': 0.0})\n",
      "('input_1', {'signal': 0.0, 'next_signal': 0.0, 'next_error': 0.0, 'error': 0.0})\n",
      "('input_2', {'signal': 0.0, 'next_signal': 0.0, 'next_error': 0.0, 'error': 0.0})\n",
      "('output_0', {'signal': 0.0, 'next_signal': 0.0, 'next_error': 0.0, 'error': 0.0})\n",
      "('output_1', {'signal': 0.0, 'next_signal': 0.0, 'next_error': 0.0, 'error': 0.0})\n",
      "('output_2', {'signal': 0.0, 'next_signal': 0.0, 'next_error': 0.0, 'error': 0.0})\n",
      "\n",
      "\n",
      "('hidden_0', 'output_0', {'weight': -0.00423029389533579})\n",
      "('hidden_0', 'output_1', {'weight': -0.04018503984012093})\n",
      "('hidden_0', 'output_2', {'weight': -0.036986905423801966})\n",
      "('input_0', 'hidden_0', {'weight': 0.03490508483027347})\n",
      "('input_1', 'hidden_0', {'weight': -0.03289048803761979})\n",
      "('input_2', 'hidden_0', {'weight': -0.030875645605864466})\n",
      "\n",
      "('hidden_0', {'signal': 0.0, 'next_signal': 0.0, 'next_error': 0.0, 'error': 0.0})\n",
      "('input_0', {'signal': 0.0, 'next_signal': 0.0, 'next_error': 0.0, 'error': 0.0})\n",
      "('input_1', {'signal': 0.0, 'next_signal': 0.0, 'next_error': 0.0, 'error': 0.0})\n",
      "('input_2', {'signal': 0.0, 'next_signal': 0.0, 'next_error': 0.0, 'error': 0.0})\n",
      "('output_0', {'signal': 0.0, 'next_signal': 0.0, 'next_error': 0.0, 'error': 0.0})\n",
      "('output_1', {'signal': 0.0, 'next_signal': 0.0, 'next_error': 0.0, 'error': 0.0})\n",
      "('output_2', {'signal': 0.0, 'next_signal': 0.0, 'next_error': 0.0, 'error': 0.0})\n",
      "\n",
      "\n",
      "('hidden_0', 'output_0', {'weight': -0.00423029389533579})\n",
      "('hidden_0', 'output_1', {'weight': -0.04018503984012093})\n",
      "('hidden_0', 'output_2', {'weight': -0.036986905423801966})\n",
      "('input_0', 'hidden_0', {'weight': 0.03490508483027347})\n",
      "('input_1', 'hidden_0', {'weight': -0.03289048803761979})\n",
      "('input_2', 'hidden_0', {'weight': -0.030875645605864466})\n",
      "\n",
      "('hidden_0', {'signal': 0.0, 'next_signal': 0.0, 'next_error': 0.0, 'error': 0.0})\n",
      "('input_0', {'signal': 0.0, 'next_signal': 0.0, 'next_error': 0.0, 'error': 0.0})\n",
      "('input_1', {'signal': 0.0, 'next_signal': 0.0, 'next_error': 0.0, 'error': 0.0})\n",
      "('input_2', {'signal': 0.0, 'next_signal': 0.0, 'next_error': 0.0, 'error': 0.0})\n",
      "('output_0', {'signal': 0.0, 'next_signal': 0.0, 'next_error': 0.0, 'error': 0.0})\n",
      "('output_1', {'signal': 0.0, 'next_signal': 0.0, 'next_error': 0.0, 'error': 0.0})\n",
      "('output_2', {'signal': 0.0, 'next_signal': 0.0, 'next_error': 0.0, 'error': 0.0})\n",
      "\n",
      "\n",
      "('hidden_0', 'output_0', {'weight': -0.00423029389533579})\n",
      "('hidden_0', 'output_1', {'weight': -0.04018503984012093})\n",
      "('hidden_0', 'output_2', {'weight': -0.036986905423801966})\n",
      "('input_0', 'hidden_0', {'weight': 0.03490508483027347})\n",
      "('input_1', 'hidden_0', {'weight': -0.03289048803761979})\n",
      "('input_2', 'hidden_0', {'weight': -0.030875645605864466})\n",
      "\n",
      "('hidden_0', {'signal': 0.0, 'next_signal': 0.0, 'next_error': 0.0, 'error': 0.0})\n",
      "('input_0', {'signal': 0.0, 'next_signal': 0.0, 'next_error': 0.0, 'error': 0.0})\n",
      "('input_1', {'signal': 0.0, 'next_signal': 0.0, 'next_error': 0.0, 'error': 0.0})\n",
      "('input_2', {'signal': 0.0, 'next_signal': 0.0, 'next_error': 0.0, 'error': 0.0})\n",
      "('output_0', {'signal': 0.0, 'next_signal': 0.0, 'next_error': 0.0, 'error': 0.0})\n",
      "('output_1', {'signal': 0.0, 'next_signal': 0.0, 'next_error': 0.0, 'error': 0.0})\n",
      "('output_2', {'signal': 0.0, 'next_signal': 0.0, 'next_error': 0.0, 'error': 0.0})\n",
      "\n",
      "\n",
      "('hidden_0', 'output_0', {'weight': -0.00423029389533579})\n",
      "('hidden_0', 'output_1', {'weight': -0.04018503984012093})\n",
      "('hidden_0', 'output_2', {'weight': -0.036986905423801966})\n",
      "('input_0', 'hidden_0', {'weight': 0.03490508483027347})\n",
      "('input_1', 'hidden_0', {'weight': -0.03289048803761979})\n",
      "('input_2', 'hidden_0', {'weight': -0.030875645605864466})\n",
      "\n",
      "('hidden_0', {'signal': 0.0, 'next_signal': 0.0, 'next_error': 0.00021151469476678953, 'error': 0.00021151469476678953})\n",
      "('input_0', {'signal': 0.0, 'next_signal': 0.0, 'next_error': 0.0, 'error': 0.0})\n",
      "('input_1', {'signal': 0.0, 'next_signal': 0.0, 'next_error': 0.0, 'error': 0.0})\n",
      "('input_2', {'signal': 0.0, 'next_signal': 0.0, 'next_error': 0.0, 'error': 0.0})\n",
      "('output_0', {'signal': 0.0, 'next_signal': 0.0, 'next_error': 0.0, 'error': 0.0})\n",
      "('output_1', {'signal': 0.0, 'next_signal': 0.0, 'next_error': 0.0, 'error': 0.0})\n",
      "('output_2', {'signal': 0.0, 'next_signal': 0.0, 'next_error': 0.0, 'error': 0.0})\n",
      "\n",
      "\n",
      "('hidden_0', 'output_0', {'weight': -0.00423029389533579})\n",
      "('hidden_0', 'output_1', {'weight': -0.04018503984012093})\n",
      "('hidden_0', 'output_2', {'weight': -0.036986905423801966})\n",
      "('input_0', 'hidden_0', {'weight': 0.03490508483027347})\n",
      "('input_1', 'hidden_0', {'weight': -0.03289048803761979})\n",
      "('input_2', 'hidden_0', {'weight': -0.030875645605864466})\n",
      "\n",
      "('hidden_0', {'signal': 0.0, 'next_signal': 0.0, 'next_error': 0.00020093896002845005, 'error': 0.00020093896002845005})\n",
      "('input_0', {'signal': 0.0, 'next_signal': 0.0, 'next_error': 7.382938363684189e-06, 'error': 7.382938363684189e-06})\n",
      "('input_1', {'signal': 0.0, 'next_signal': 0.0, 'next_error': -6.956821538007893e-06, 'error': -6.956821538007893e-06})\n",
      "('input_2', {'signal': 0.0, 'next_signal': 0.0, 'next_error': -6.530652756051989e-06, 'error': -6.530652756051989e-06})\n",
      "('output_0', {'signal': 0.0, 'next_signal': 0.0, 'next_error': 0.0, 'error': 0.0})\n",
      "('output_1', {'signal': 0.0, 'next_signal': 0.0, 'next_error': 0.0, 'error': 0.0})\n",
      "('output_2', {'signal': 0.0, 'next_signal': 0.0, 'next_error': 0.0, 'error': 0.0})\n",
      "\n",
      "\n",
      "('hidden_0', 'output_0', {'weight': -0.004018779200569001})\n",
      "('hidden_0', 'output_1', {'weight': -0.03997352514535414})\n",
      "('hidden_0', 'output_2', {'weight': -0.03677539072903518})\n",
      "('input_0', 'hidden_0', {'weight': 0.03490508483027347})\n",
      "('input_1', 'hidden_0', {'weight': -0.03289048803761979})\n",
      "('input_2', 'hidden_0', {'weight': -0.030875645605864466})\n",
      "\n",
      "('hidden_0', {'signal': 0.0, 'next_signal': 0.0, 'next_error': 0.00019089201202702755, 'error': 0.00019089201202702755})\n",
      "('input_0', {'signal': 0.0, 'next_signal': 0.0, 'next_error': 7.015274965456732e-06, 'error': 7.015274965456732e-06})\n",
      "('input_1', {'signal': 0.0, 'next_signal': 0.0, 'next_error': -6.610378357592448e-06, 'error': -6.610378357592448e-06})\n",
      "('input_2', {'signal': 0.0, 'next_signal': 0.0, 'next_error': -6.205432380822498e-06, 'error': -6.205432380822498e-06})\n",
      "('output_0', {'signal': 0.0, 'next_signal': 0.0, 'next_error': 0.0, 'error': 0.0})\n",
      "('output_1', {'signal': 0.0, 'next_signal': 0.0, 'next_error': 0.0, 'error': 0.0})\n",
      "('output_2', {'signal': 0.0, 'next_signal': 0.0, 'next_error': 0.0, 'error': 0.0})\n",
      "\n",
      "\n",
      "('hidden_0', 'output_0', {'weight': -0.003817840240540551})\n",
      "('hidden_0', 'output_1', {'weight': -0.03977258618532569})\n",
      "('hidden_0', 'output_2', {'weight': -0.03657445176900673})\n",
      "('input_0', 'hidden_0', {'weight': 0.034912467768637157})\n",
      "('input_1', 'hidden_0', {'weight': -0.0328974448591578})\n",
      "('input_2', 'hidden_0', {'weight': -0.030882176258620518})\n",
      "\n",
      "('hidden_0', {'signal': 0.0, 'next_signal': 0.0, 'next_error': 0.0018134741142567616, 'error': 0.0018134741142567616})\n",
      "('input_0', {'signal': 0.0, 'next_signal': 0.0, 'next_error': 6.665850377136975e-06, 'error': 6.665850377136975e-06})\n",
      "('input_1', {'signal': 0.0, 'next_signal': 0.0, 'next_error': -6.281121308137767e-06, 'error': -6.281121308137767e-06})\n",
      "('input_2', {'signal': 0.0, 'next_signal': 0.0, 'next_error': -5.896345329254046e-06, 'error': -5.896345329254046e-06})\n",
      "('output_0', {'signal': 0.0, 'next_signal': 0.0, 'next_error': 0.0, 'error': 0.0})\n",
      "('output_1', {'signal': 0.0, 'next_signal': 0.0, 'next_error': 0.0, 'error': 0.0})\n",
      "('output_2', {'signal': 0.0, 'next_signal': 0.0, 'next_error': 0.0, 'error': 0.0})\n",
      "\n",
      "\n",
      "('hidden_0', 'output_0', {'weight': -0.0036269482285135233})\n",
      "('hidden_0', 'output_1', {'weight': -0.03958169417329866})\n",
      "('hidden_0', 'output_2', {'weight': -0.0363835597569797})\n",
      "('input_0', 'hidden_0', {'weight': 0.034919483043602616})\n",
      "('input_1', 'hidden_0', {'weight': -0.03290405523751539})\n",
      "('input_2', 'hidden_0', {'weight': -0.03088838169100134})\n",
      "\n",
      "('hidden_0', {'signal': -0.03291033635882353, 'next_signal': -0.03291033635882353, 'next_error': 0.0009067370571283808, 'error': 0.0009067370571283808})\n",
      "('input_0', {'signal': 0.0, 'next_signal': 0.0, 'next_error': 6.333766692990972e-05, 'error': 6.333766692990972e-05})\n",
      "('input_1', {'signal': 0.0, 'next_signal': 0.0, 'next_error': -5.96820430782096e-05, 'error': -5.96820430782096e-05})\n",
      "('input_2', {'signal': 0.0, 'next_signal': 0.0, 'next_error': -5.6025973497536746e-05, 'error': -5.6025973497536746e-05})\n",
      "('output_0', {'signal': 0.0, 'next_signal': 0.0, 'next_error': 0.0, 'error': 0.0})\n",
      "('output_1', {'signal': 0.0, 'next_signal': 0.0, 'next_error': 0.0, 'error': 0.0})\n",
      "('output_2', {'signal': 0.0, 'next_signal': 0.0, 'next_error': 0.0, 'error': 0.0})\n",
      "\n",
      "\n",
      "('hidden_0', 'output_0', {'weight': -0.0018134741142567616})\n",
      "('hidden_0', 'output_1', {'weight': -0.0377682200590419})\n",
      "('hidden_0', 'output_2', {'weight': -0.03457008564272294})\n",
      "('input_0', 'hidden_0', {'weight': 0.034926148893979755})\n",
      "('input_1', 'hidden_0', {'weight': -0.03291033635882353})\n",
      "('input_2', 'hidden_0', {'weight': -0.030894278036330592})\n",
      "\n",
      "('hidden_0', {'signal': 0.0, 'next_signal': 0.0, 'next_error': 0.0, 'error': 0.0})\n",
      "('input_0', {'signal': 0.0, 'next_signal': 0.0, 'next_error': 3.172626407467226e-05, 'error': 3.172626407467226e-05})\n",
      "('input_1', {'signal': 0.0, 'next_signal': 0.0, 'next_error': -2.989513745920895e-05, 'error': -2.989513745920895e-05})\n",
      "('input_2', {'signal': 0.0, 'next_signal': 0.0, 'next_error': -2.8063787575100282e-05, 'error': -2.8063787575100282e-05})\n",
      "('output_0', {'signal': 2.98410215391048e-05, 'next_signal': 2.98410215391048e-05, 'next_error': 0.0, 'error': 0.0})\n",
      "('output_1', {'signal': 0.00121312380427803, 'next_signal': 0.00121312380427803, 'next_error': 0.0, 'error': 0.0})\n",
      "('output_2', {'signal': 0.0011078721249162431, 'next_signal': 0.0011078721249162431, 'next_error': 0.0, 'error': 0.0})\n",
      "\n",
      "\n",
      "('hidden_0', 'output_0', {'weight': -0.0009067370571283808})\n",
      "('hidden_0', 'output_1', {'weight': -0.03686148300191352})\n",
      "('hidden_0', 'output_2', {'weight': -0.033663348585594555})\n",
      "('input_0', 'hidden_0', {'weight': 0.034989486560909666})\n",
      "('input_1', 'hidden_0', {'weight': -0.032970018401901745})\n",
      "('input_2', 'hidden_0', {'weight': -0.03095030400982813})\n",
      "\n",
      "('hidden_0', {'signal': 0.0, 'next_signal': 0.0, 'next_error': 0.0, 'error': 0.0})\n",
      "('input_0', {'signal': 0.0, 'next_signal': 0.0, 'next_error': 0.0, 'error': 0.0})\n",
      "('input_1', {'signal': 0.0, 'next_signal': 0.0, 'next_error': 0.0, 'error': 0.0})\n",
      "('input_2', {'signal': 0.0, 'next_signal': 0.0, 'next_error': 0.0, 'error': 0.0})\n",
      "('output_0', {'signal': 0.0, 'next_signal': 0.0, 'next_error': 0.0, 'error': 0.0})\n",
      "('output_1', {'signal': 0.0, 'next_signal': 0.0, 'next_error': 0.0, 'error': 0.0})\n",
      "('output_2', {'signal': 0.0, 'next_signal': 0.0, 'next_error': 0.0, 'error': 0.0})\n",
      "\n",
      "\n",
      "('hidden_0', 'output_0', {'weight': -0.0009067370571283808})\n",
      "('hidden_0', 'output_1', {'weight': -0.03686148300191352})\n",
      "('hidden_0', 'output_2', {'weight': -0.033663348585594555})\n",
      "('input_0', 'hidden_0', {'weight': 0.03502121282498434})\n",
      "('input_1', 'hidden_0', {'weight': -0.03299991353936095})\n",
      "('input_2', 'hidden_0', {'weight': -0.03097836779740323})\n",
      "\n",
      "('hidden_0', {'signal': 0.0, 'next_signal': 0.0, 'next_error': 0.0, 'error': 0.0})\n",
      "('input_0', {'signal': 0.0, 'next_signal': 0.0, 'next_error': 0.0, 'error': 0.0})\n",
      "('input_1', {'signal': 0.0, 'next_signal': 0.0, 'next_error': 0.0, 'error': 0.0})\n",
      "('input_2', {'signal': 0.0, 'next_signal': 0.0, 'next_error': 0.0, 'error': 0.0})\n",
      "('output_0', {'signal': 0.0, 'next_signal': 0.0, 'next_error': 0.0, 'error': 0.0})\n",
      "('output_1', {'signal': 0.0, 'next_signal': 0.0, 'next_error': 0.0, 'error': 0.0})\n",
      "('output_2', {'signal': 0.0, 'next_signal': 0.0, 'next_error': 0.0, 'error': 0.0})\n",
      "\n",
      "\n",
      "('hidden_0', 'output_0', {'weight': -0.0009067370571283808})\n",
      "('hidden_0', 'output_1', {'weight': -0.03686148300191352})\n",
      "('hidden_0', 'output_2', {'weight': -0.033663348585594555})\n",
      "('input_0', 'hidden_0', {'weight': 0.03502121282498434})\n",
      "('input_1', 'hidden_0', {'weight': -0.03299991353936095})\n",
      "('input_2', 'hidden_0', {'weight': -0.03097836779740323})\n"
     ]
    },
    {
     "ename": "KeyboardInterrupt",
     "evalue": "",
     "output_type": "error",
     "traceback": [
      "\u001b[0;31m---------------------------------------------------------------------------\u001b[0m",
      "\u001b[0;31mKeyboardInterrupt\u001b[0m                         Traceback (most recent call last)",
      "\u001b[0;32m<ipython-input-771-3c770bcf6f37>\u001b[0m in \u001b[0;36m<module>\u001b[0;34m()\u001b[0m\n\u001b[0;32m----> 1\u001b[0;31m \u001b[0ml\u001b[0m\u001b[0;34m.\u001b[0m\u001b[0mlearning\u001b[0m\u001b[0;34m.\u001b[0m\u001b[0mtrain\u001b[0m\u001b[0;34m(\u001b[0m\u001b[0ma_generator\u001b[0m\u001b[0;34m(\u001b[0m\u001b[0;34m)\u001b[0m\u001b[0;34m,\u001b[0m \u001b[0mepochs\u001b[0m \u001b[0;34m=\u001b[0m \u001b[0;36m1\u001b[0m\u001b[0;34m)\u001b[0m\u001b[0;34m\u001b[0m\u001b[0m\n\u001b[0m",
      "\u001b[0;32m<ipython-input-768-8c9548ce5433>\u001b[0m in \u001b[0;36mtrain\u001b[0;34m(self, data_generator, epochs)\u001b[0m\n\u001b[1;32m    254\u001b[0m             \u001b[0;32mwhile\u001b[0m \u001b[0mlen\u001b[0m\u001b[0;34m(\u001b[0m\u001b[0mtrain_data\u001b[0m\u001b[0;34m)\u001b[0m \u001b[0;34m<\u001b[0m \u001b[0mself\u001b[0m\u001b[0;34m.\u001b[0m\u001b[0mTRAIN_SEQUENCE_LENGTH\u001b[0m\u001b[0;34m:\u001b[0m\u001b[0;34m\u001b[0m\u001b[0m\n\u001b[1;32m    255\u001b[0m                 \u001b[0mtrain_data\u001b[0m\u001b[0;34m.\u001b[0m\u001b[0mappend\u001b[0m\u001b[0;34m(\u001b[0m\u001b[0mnext\u001b[0m\u001b[0;34m(\u001b[0m\u001b[0mdata_generator\u001b[0m\u001b[0;34m)\u001b[0m\u001b[0;34m)\u001b[0m\u001b[0;34m\u001b[0m\u001b[0m\n\u001b[0;32m--> 256\u001b[0;31m             \u001b[0mself\u001b[0m\u001b[0;34m.\u001b[0m\u001b[0m_train_step\u001b[0m\u001b[0;34m(\u001b[0m\u001b[0mtrain_data\u001b[0m\u001b[0;34m)\u001b[0m\u001b[0;34m\u001b[0m\u001b[0m\n\u001b[0m\u001b[1;32m    257\u001b[0m \u001b[0;34m\u001b[0m\u001b[0m\n\u001b[1;32m    258\u001b[0m             \u001b[0mtest_data\u001b[0m \u001b[0;34m=\u001b[0m \u001b[0;34m[\u001b[0m\u001b[0;34m]\u001b[0m\u001b[0;34m\u001b[0m\u001b[0m\n",
      "\u001b[0;32m<ipython-input-768-8c9548ce5433>\u001b[0m in \u001b[0;36m_train_step\u001b[0;34m(self, data)\u001b[0m\n\u001b[1;32m    188\u001b[0m                 \u001b[0mself\u001b[0m\u001b[0;34m.\u001b[0m\u001b[0m_normalize_weights\u001b[0m\u001b[0;34m(\u001b[0m\u001b[0;34m)\u001b[0m\u001b[0;34m\u001b[0m\u001b[0m\n\u001b[1;32m    189\u001b[0m                 \u001b[0mself\u001b[0m\u001b[0;34m.\u001b[0m\u001b[0mvisualize_graph\u001b[0m\u001b[0;34m(\u001b[0m\u001b[0;34m)\u001b[0m\u001b[0;34m\u001b[0m\u001b[0m\n\u001b[0;32m--> 190\u001b[0;31m                 \u001b[0mraw_input\u001b[0m\u001b[0;34m(\u001b[0m\u001b[0;34m)\u001b[0m\u001b[0;34m\u001b[0m\u001b[0m\n\u001b[0m\u001b[1;32m    191\u001b[0m                 \u001b[0moutput_gate_was_low\u001b[0m \u001b[0;34m=\u001b[0m \u001b[0moutput_gate_was_low\u001b[0m \u001b[0;32mor\u001b[0m \u001b[0mgraph\u001b[0m\u001b[0;34m.\u001b[0m\u001b[0mnode\u001b[0m\u001b[0;34m[\u001b[0m\u001b[0;34m'output_0'\u001b[0m\u001b[0;34m]\u001b[0m\u001b[0;34m[\u001b[0m\u001b[0;34m'signal'\u001b[0m\u001b[0;34m]\u001b[0m \u001b[0;34m<\u001b[0m \u001b[0;36m0.5\u001b[0m\u001b[0;34m\u001b[0m\u001b[0m\n\u001b[1;32m    192\u001b[0m                 \u001b[0moutput_gate_error\u001b[0m \u001b[0;34m=\u001b[0m \u001b[0moutput_gate_error_schedule\u001b[0m\u001b[0;34m[\u001b[0m\u001b[0mcompute_step\u001b[0m\u001b[0;34m]\u001b[0m\u001b[0;34m\u001b[0m\u001b[0m\n",
      "\u001b[0;32m/Users/shariq/anaconda2/envs/cvconda/lib/python2.7/site-packages/ipykernel/kernelbase.pyc\u001b[0m in \u001b[0;36mraw_input\u001b[0;34m(self, prompt)\u001b[0m\n\u001b[1;32m    688\u001b[0m             \u001b[0mself\u001b[0m\u001b[0;34m.\u001b[0m\u001b[0m_parent_ident\u001b[0m\u001b[0;34m,\u001b[0m\u001b[0;34m\u001b[0m\u001b[0m\n\u001b[1;32m    689\u001b[0m             \u001b[0mself\u001b[0m\u001b[0;34m.\u001b[0m\u001b[0m_parent_header\u001b[0m\u001b[0;34m,\u001b[0m\u001b[0;34m\u001b[0m\u001b[0m\n\u001b[0;32m--> 690\u001b[0;31m             \u001b[0mpassword\u001b[0m\u001b[0;34m=\u001b[0m\u001b[0mFalse\u001b[0m\u001b[0;34m,\u001b[0m\u001b[0;34m\u001b[0m\u001b[0m\n\u001b[0m\u001b[1;32m    691\u001b[0m         )\n\u001b[1;32m    692\u001b[0m \u001b[0;34m\u001b[0m\u001b[0m\n",
      "\u001b[0;32m/Users/shariq/anaconda2/envs/cvconda/lib/python2.7/site-packages/ipykernel/kernelbase.pyc\u001b[0m in \u001b[0;36m_input_request\u001b[0;34m(self, prompt, ident, parent, password)\u001b[0m\n\u001b[1;32m    718\u001b[0m             \u001b[0;32mexcept\u001b[0m \u001b[0mKeyboardInterrupt\u001b[0m\u001b[0;34m:\u001b[0m\u001b[0;34m\u001b[0m\u001b[0m\n\u001b[1;32m    719\u001b[0m                 \u001b[0;31m# re-raise KeyboardInterrupt, to truncate traceback\u001b[0m\u001b[0;34m\u001b[0m\u001b[0;34m\u001b[0m\u001b[0m\n\u001b[0;32m--> 720\u001b[0;31m                 \u001b[0;32mraise\u001b[0m \u001b[0mKeyboardInterrupt\u001b[0m\u001b[0;34m\u001b[0m\u001b[0m\n\u001b[0m\u001b[1;32m    721\u001b[0m             \u001b[0;32melse\u001b[0m\u001b[0;34m:\u001b[0m\u001b[0;34m\u001b[0m\u001b[0m\n\u001b[1;32m    722\u001b[0m                 \u001b[0;32mbreak\u001b[0m\u001b[0;34m\u001b[0m\u001b[0m\n",
      "\u001b[0;31mKeyboardInterrupt\u001b[0m: "
     ]
    }
   ],
   "source": [
    "l.learning.train(a_generator(), epochs = 1)"
   ]
  },
  {
   "cell_type": "code",
   "execution_count": 695,
   "metadata": {
    "collapsed": true
   },
   "outputs": [],
   "source": [
    "# training doesn't work for such a simple model ??? LOLL!L!L!L!L!L! this is why research is so slowwww omgggggmygod"
   ]
  },
  {
   "cell_type": "code",
   "execution_count": 696,
   "metadata": {
    "collapsed": true
   },
   "outputs": [],
   "source": [
    "# also if i had to guess, it'll be a lot easier to beat SOTA on RL in terms of sample efficiency than on LM..........\n",
    "# and this is only cool if i significantly beat a SOTA baseline\n",
    "# RL as in RL robotics\n",
    "# also doing it with convnets would be *sickkkk* :-3"
   ]
  },
  {
   "cell_type": "code",
   "execution_count": 754,
   "metadata": {
    "collapsed": true
   },
   "outputs": [],
   "source": [
    "for i in range(100):\n",
    "    feedforward.learning._propagate_signals()\n",
    "    feedforward.learning._normalize_signals()"
   ]
  },
  {
   "cell_type": "code",
   "execution_count": 766,
   "metadata": {
    "collapsed": true
   },
   "outputs": [],
   "source": [
    "feedforward.learning._propagate_signals()\n",
    "feedforward.learning._normalize_signals()"
   ]
  },
  {
   "cell_type": "code",
   "execution_count": 767,
   "metadata": {
    "collapsed": false
   },
   "outputs": [
    {
     "name": "stdout",
     "output_type": "stream",
     "text": [
      "('hidden_0', {'signal': 0.0, 'next_signal': 0.0, 'next_error': 0.0, 'error': 0.0})\n",
      "('input_0', {'signal': 0.0, 'next_signal': 0.0, 'next_error': 0.0, 'error': 0.0})\n",
      "('input_1', {'signal': 0.0, 'next_signal': 0.0, 'next_error': 0.0, 'error': 0.0})\n",
      "('input_2', {'signal': 0.0, 'next_signal': 0.0, 'next_error': 0.0, 'error': 0.0})\n",
      "('output_0', {'signal': 0.0, 'next_signal': 0.0, 'next_error': 0.0, 'error': 0.0})\n",
      "('output_1', {'signal': 0.0, 'next_signal': 0.0, 'next_error': 0.0, 'error': 0.0})\n",
      "('output_2', {'signal': 0.0, 'next_signal': 0.0, 'next_error': 0.0, 'error': 0.0})\n",
      "\n",
      "\n",
      "('hidden_0', 'output_0', {'weight': -0.029000012903057648})\n",
      "('hidden_0', 'output_1', {'weight': 0.03657679880822372})\n",
      "('hidden_0', 'output_2', {'weight': 0.017631835710978806})\n",
      "('input_0', 'hidden_0', {'weight': 0.00565343526950568})\n",
      "('input_1', 'hidden_0', {'weight': -0.0056560650923203285})\n",
      "('input_2', 'hidden_0', {'weight': 0.021139255780769882})\n"
     ]
    }
   ],
   "source": [
    "for node in sorted(feedforward.graph):\n",
    "    print(node, feedforward.graph.node[node])\n",
    "\n",
    "print('\\n')\n",
    "for node in sorted(feedforward.graph):\n",
    "    for out_node in sorted(feedforward.graph[node]):\n",
    "        print(node, out_node, feedforward.graph[node][out_node])"
   ]
  },
  {
   "cell_type": "code",
   "execution_count": 759,
   "metadata": {
    "collapsed": true
   },
   "outputs": [],
   "source": [
    "G = feedforward.graph"
   ]
  },
  {
   "cell_type": "code",
   "execution_count": 760,
   "metadata": {
    "collapsed": true
   },
   "outputs": [],
   "source": [
    "G.node['input_0']['signal'] = 1.0"
   ]
  },
  {
   "cell_type": "markdown",
   "metadata": {},
   "source": [
    "# todo:\n",
    "- think about moving signals and errors to edges instead of nodes\n",
    "- make learning work on this dummy network\n",
    "\n",
    "think of how the learning rule generalizes:\n",
    "- each node + edge has its vector\n",
    "- each step involves updating the edge + node vectors, looking at a single node and all edges coming out from it; maybe also the nodes which those edges are connected to. \"looking at\" means using the vectors.\n",
    "- start off with generic functions which we use for the super simple case, then try to generalize those functions well (???)\n",
    "- "
   ]
  }
 ],
 "metadata": {
  "kernelspec": {
   "display_name": "Python 2",
   "language": "python",
   "name": "python2"
  },
  "language_info": {
   "codemirror_mode": {
    "name": "ipython",
    "version": 2
   },
   "file_extension": ".py",
   "mimetype": "text/x-python",
   "name": "python",
   "nbconvert_exporter": "python",
   "pygments_lexer": "ipython2",
   "version": "2.7.12"
  }
 },
 "nbformat": 4,
 "nbformat_minor": 1
}
